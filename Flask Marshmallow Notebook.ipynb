{
 "cells": [
  {
   "attachments": {},
   "cell_type": "markdown",
   "metadata": {},
   "source": [
    "# Flask Marshmallow Tutorial \n",
    "***"
   ]
  },
  {
   "attachments": {},
   "cell_type": "markdown",
   "metadata": {},
   "source": [
    "## Table of Contents"
   ]
  },
  {
   "attachments": {},
   "cell_type": "markdown",
   "metadata": {},
   "source": [
    "\n",
    "\n",
    "### 1. Intro to Flask-Marshmallow\n",
    "\n",
    "\n",
    "### 2. Learning Objective\n",
    "\n",
    "    \n",
    "### 3. Assumptions\n",
    "\n",
    "\n",
    "### 4. Installation / Setup\n",
    "\n",
    "\n",
    "### 5. Hello World Application\n",
    "\n",
    "\n",
    "### 6. Concepts of Flask-Marshmallow\n",
    "\n",
    "<ol>\n",
    "\n",
    "a.\tSchemas\n",
    "\n",
    "b.\tDeserializing  \n",
    "\n",
    "c.\tSerializing \n",
    "\n",
    "</ol>\n",
    "\n",
    "    \n",
    "### 7. Advanced Concepts\n",
    "\n",
    "<ol>\n",
    "\n",
    "a.\t    Validation \n",
    "\n",
    "b.\t    Nested Schemas \n",
    "\n",
    "c.\t    Custom Fields\n",
    "\n",
    "</ol>\n",
    "\n",
    "### 8. Follow-ups & External Sources\n",
    "\n",
    "<ol>\n",
    "\n",
    "a.\t    Helpful links for more information \n",
    "\n",
    "b.\t    List of references\n",
    "\n",
    "</ol>\n",
    "\n",
    "\n"
   ]
  },
  {
   "attachments": {},
   "cell_type": "markdown",
   "metadata": {},
   "source": [
    "## 1. Intro to Flask-Marshmallow\n",
    "\n",
    ">\"Flask-Marshmallow is a thin integration layer for Flask (a Python web framework) and marshmallow (an object serialization/deserialization library) <br> \n",
    "that adds additional features to marshmallow, including URL and Hyperlinks fields for HATEOAS-ready APIs.[...]\" (readthedocs, 2023, 3)\n",
    "\n",
    "This is a really good description of what Flask-Marshmallow is and what you can do with it. However there are many other ways of explaining this topic. <br>\n",
    "Another simpler explanation of Flask-Marshmallow is the following, describing the use of it in a different way.\n",
    "\n",
    ">\"[Marshmallow] is used to convert objects to and from Python data types.\" (golinuxcloud, 2023)\n",
    "\n",
    "Meaning for example converting an object into a string or vice versa. In other words you can deserialize a JSON object to Python object or serialize Python <br>\n",
    "object to JSON object. \n",
    "\n",
    "As you can see there are different ways of explaining Flask-Marshmallow and describing what you can do with it. But just the theoretical part and looking at <br>\n",
    "the different definitions won't help us to understand Marshmallow completely so we will start to look into code snippets for each concept."
   ]
  },
  {
   "attachments": {},
   "cell_type": "markdown",
   "metadata": {},
   "source": [
    "## 2. Learning Objective\n",
    "\n",
    "In this tutorial we will focus on the serialization and deserialization as well as schemas and some other advanced concepts. First we will learn about <br> schemas, serialization and deserialization and then look at some examples to get a better understanding of how these functions work and what it <br> looks like using them. \n",
    "\n",
    "So summing up this will be the content of this tutorial. Each of them will be explained with the help of code examples. \n",
    "\n",
    "#### In-scope\n",
    "\n",
    ">* Schemas\n",
    ">* Serialization\n",
    ">* Deserialization\n",
    ">* Validation\n",
    ">* Nested Schemas\n",
    ">* Custom Fields\n",
    "\n",
    "At the end of this tutorial you will understand each of these concepts and after some practice be able to use them correctly.\n",
    "\n",
    "#### Out of scope\n",
    "\n",
    ">* SQLAlchemy\n",
    ">* Custom Fields using Functions"
   ]
  },
  {
   "attachments": {},
   "cell_type": "markdown",
   "metadata": {},
   "source": [
    "## 3. Assumptions\n",
    "\n",
    "To be able to follow this tutorial you should already have:\n",
    "\n",
    "* python and Virtual Studio Code (VSCode) installed\n",
    "* set up a virtual environment (venv)\n",
    "* installed flask in your venv\n",
    "\n",
    "If you haven't done these steps, there will be a short instruction on how to setup up a virtual environment in VSCode and install flask.<br>\n",
    "Once you've done all of these steps, we are ready to go and continue this tutorial."
   ]
  },
  {
   "attachments": {},
   "cell_type": "markdown",
   "metadata": {},
   "source": [
    "## 4. Installation / Setup\n",
    "\n",
    ">In case you don't know how to setup a virtual environment and flask or just haven't done it yet, we will go through that very process step by step. <br>\n",
    ">Otherwise you can skip the setup parts for virtual environment and flask and continue with the next steps concerning marshmallow.\n",
    "\n",
    "\n",
    "### Set up a virtual environment\n",
    "\n",
    "> The commands used in this tutorial are only for Windows. You can google the equivalent commands for MacOS <br>\n",
    "> if needed.\n",
    "\n",
    "The first thing you want to do after installing python and VSCode successfully is to open VSCode. <br>\n",
    "In the side pane you can see several symbols. Click on the \"Extensions\" button and search for **Python**. <br>\n",
    "You want to install the one created by Microsoft. Once you've done that, you can create a new folder<br>\n",
    "on your desktop for example. You can name it however you want but it might be best to give it a simple <br>\n",
    "name like **App**. In the next step you want to open your folder in VSCode. Do that by clicking <br>\n",
    "\"file > open folder\" and select your folder. <br>\n",
    "\n",
    "Before we continue using the VSCode terminal, we need to set the default terminal to *cmd*. <br>\n",
    "We can do that by pressing <kbd>Ctrl + Shift + P</kbd> and typing ***terminal select default profile***. <br>\n",
    "Then you select Command Prompt. Now you want to create a new terminal by clicking <br>\n",
    "\"terminal > new terminal\" and type in:\n",
    "\n",
    "``python -m venv myvenv``\n",
    "\n",
    "By pressing <kbd>Enter</kbd> we create a new virtual environment in the folder \"myvenv\". Since that is the name <br>\n",
    "of the folder, you can give your folder a different name if you like. But for now lets continue with that. <br>\n",
    "\n",
    "Now we want to activate the virtual environment. We will do this by typing the following in the terminal:\n",
    "\n",
    "``.\\myvenv\\Scripts\\activate.bat``\n",
    "\n",
    "You can check in the terminal if your virtual environment is activated or not. If the command worked and <br>\n",
    "successfully activated your virtual environment, you should see (myvenv) at the start of your terminal line. <br>\n",
    "\n",
    "#### Optional\n",
    "\n",
    "If you plan on working more often on your project, it may be useful to consider setting your newly created <br>\n",
    "virtual environment as default for this project. To do this, press <kbd>Ctrl+Shift+P</kbd> and type in *python* <br>\n",
    "*select interpreter*. You will already see recommendations pop up. Now you want to click on the option that has <br>\n",
    "the name of your virtual environment in it ((myvenv) in this case). \n",
    "\n",
    "You can now create a new terminal by clicking *Terminal* and *New Terminal* in the navigation bar of VSCode. <br>\n",
    "If it worked correctly the terminal line should start with (myvenv).\n",
    "\n",
    "### Install Flask\n",
    "\n",
    "Still in the same terminal (starting with (myvenv)), you can now install flask by simply tiping the following\n",
    "\n",
    "``pip install flask``\n",
    "\n",
    "You should something happening in your terminal and after a few seconds flask is installed. If not sure <br> \n",
    "whether it is installed correctly or not, you may check your folder in the explorer. Your folder should <br>\n",
    "contain ***flask***. It may look something like this (It's only a screenshot of the top of the folder, <br> \n",
    "not showing ***jinja2*** for example)\n",
    "\n",
    "![Screenshot of the folder!](/images/Folder.jpg \"Project Folder\")\n",
    "\n",
    "\n",
    "### Upgrade Flask\n",
    "\n",
    "It may be useful to check if you have installed the newest version of Flask. If you want to upgrade Flask, <br>\n",
    "type this in your terminal line.\n",
    "\n",
    "``pip install --upgrade flask``\n",
    "\n",
    "### Install Flask-Marshmallow\n",
    "\n",
    "Similar to the previous step where we installed Flask, we now want to install Flask-Marshmallow by typing <br>\n",
    "one simple command as well.\n",
    "\n",
    "``pip install flask-marshmallow``\n",
    "\n",
    "It should only take a few seconds and it's done. Just as we did with Flask, we now want to check if it was <br>\n",
    "installed correctly. And your project folder should look something like this.\n",
    "\n",
    "![Another Screenshot of the folder!](/images/Folder2.jpg \"Project Folder MA\")\n",
    "\n",
    "Now you have finally completed all of the necessary installation and setup steps. Congratulations."
   ]
  },
  {
   "attachments": {},
   "cell_type": "markdown",
   "metadata": {},
   "source": [
    "## 5. Hello World Application\n",
    "\n",
    "Now that we have everything necessary set up and ready, we want to start by implementing a simple \"Hello World\" application. <br>\n",
    "In our case we want to provide a comparison between a \"regular\", simple \"Hello World\" application and another one using <br>\n",
    "Flask-Marshmallow. This will help get a better understanding about the code by shedding a light on the differences. <br>\n",
    "*Enough of the theory so let's get into it.*"
   ]
  },
  {
   "attachments": {},
   "cell_type": "markdown",
   "metadata": {},
   "source": [
    "### Implementing a Hello World Application"
   ]
  },
  {
   "attachments": {},
   "cell_type": "markdown",
   "metadata": {},
   "source": [
    "A basic <samp>Hello World</samp> application is the firs step we will go through before doing anything else. It's <br>\n",
    "alway useful and recommended to write a <samp>Hello World</samp> application upfront. This is quite helpful to <br>\n",
    "get a first feeling and understanding for example for the programming language we want to learn or even if <br>\n",
    "we're just trying out a new environment we're not familiar with yet. The second benefit of a <samp>Hello World</samp> <br>\n",
    "application is, that we can check if everything works just fine, concerning e.g. the setup. When trying to run <br>\n",
    "a <samp>Hello World</samp> application and it turns out, that it's not working and/ or raising an error, we know <br>\n",
    "we have to check everything and make it work before we can start doing something more advanced. \n",
    "\n",
    "So these are some reasons for starting with a <samp>Hello World</samp> application."
   ]
  },
  {
   "cell_type": "code",
   "execution_count": null,
   "metadata": {},
   "outputs": [],
   "source": [
    "from flask import Flask\n",
    "\n",
    "app = Flask(__name__)\n",
    "\n",
    "@app.route('/')\n",
    "def hello_world():\n",
    "        return 'Hello, World!'\n",
    "\n",
    "if __name__ == '__main__':\n",
    "        app.run()"
   ]
  },
  {
   "attachments": {},
   "cell_type": "markdown",
   "metadata": {},
   "source": [
    "To run this application we simply type in:\n",
    "\n",
    "``flask run``"
   ]
  },
  {
   "attachments": {},
   "cell_type": "markdown",
   "metadata": {},
   "source": [
    "#### Output \n",
    "\n",
    "If we run this simple flask application we will get the ouput: \n",
    "\n",
    "<table style=\"float:left\">\n",
    "<tr>\n",
    "<td>\n",
    "Hello, World!\n",
    "</td>\n",
    "</tr>\n",
    "</table>"
   ]
  },
  {
   "attachments": {},
   "cell_type": "markdown",
   "metadata": {},
   "source": [
    "#### Error\n",
    "\n",
    "It may also occur that an error is raised while trying to run the application with ``flask run``:\n",
    "\n",
    "![Screenshot of the error!](/images/Error.jpg \"Error Message\")\n",
    "\n",
    "There are several ways of fixing this problem. One that works for windows is the following <br>\n",
    "line we type in the terminal command line:\n",
    "\n",
    "``set FLASK_APP = main. Py``\n",
    "\n",
    "If this Error still keeps coming up, there are some other solutions.\n"
   ]
  },
  {
   "attachments": {},
   "cell_type": "markdown",
   "metadata": {},
   "source": [
    "#### See also:\n",
    "\n",
    "Fixing the [error](https://www.reddit.com/r/flask/comments/ukcvgw/hello_guys_i_am_getting_an_error_could_not_locate/)."
   ]
  },
  {
   "attachments": {},
   "cell_type": "markdown",
   "metadata": {},
   "source": [
    "### Implementing a Hello World Application with Flask-Marshmallow"
   ]
  },
  {
   "attachments": {},
   "cell_type": "markdown",
   "metadata": {},
   "source": [
    "As already mentioned before, the benefits from using a <samp>Hello World</samp> application also applies to <br>\n",
    "this example. We can see the differences between the two examples. This helps us understand how Marshmallow <br>\n",
    "is instantiated. In this example we define a message which is then returned with the help of JSON. It's a little <br>\n",
    "different from the first example (starting with the imports) however still very simple. "
   ]
  },
  {
   "cell_type": "code",
   "execution_count": 8,
   "metadata": {},
   "outputs": [],
   "source": [
    "from flask import Flask, jsonify\n",
    "from flask_marshmallow import Marshmallow\n",
    "\n",
    "app = Flask(__name__)\n",
    "ma = Marshmallow(app)\n",
    "\n",
    "@app.route('/')\n",
    "def hello_world():\n",
    "        message = {'message': 'Hello, World!'}\n",
    "        return jsonify(message)\n",
    "\n",
    "if __name__ == '__main__':\n",
    "    app.run()"
   ]
  },
  {
   "attachments": {},
   "cell_type": "markdown",
   "metadata": {},
   "source": [
    "#### Output\n",
    "\n",
    "Now running this application will give you a different output:\n",
    "\n",
    "<table style=\"float:left\">\n",
    "<tr>\n",
    "<td>\n",
    "{\"message\": \"Hello, World!\"}\n",
    "</td>\n",
    "</tr>\n",
    "</table>"
   ]
  },
  {
   "attachments": {},
   "cell_type": "markdown",
   "metadata": {},
   "source": [
    "The same advise concerning errors applies to this example as well. When having trouble <br>\n",
    "using the ``flask run`` command, it might help take a look at the following.\n",
    "\n",
    "#### See also\n",
    "\n",
    "Fixing the [error](https://www.reddit.com/r/flask/comments/ukcvgw/hello_guys_i_am_getting_an_error_could_not_locate/)."
   ]
  },
  {
   "attachments": {},
   "cell_type": "markdown",
   "metadata": {},
   "source": [
    "## 6. Concepts of Flask-Marshmallow\n",
    "\n",
    "> \"The main component of Marshmallow is a Schema. A schema defines the rules that guides deserialization, called *load*, <br>\n",
    "> and serialization, called *dump*. It allows us to define the fields that will be loaded or dumped, add requirements <br>\n",
    "> on the fields, like validation or required.[...]\" (kimsereylam.com, 2019)\n",
    "\n",
    "Apart from the mentioned concepts such as loading, dumping and validation we will also take a look at nested schemas and custom<br>\n",
    "fields as well as SQLAlchemy. However, let's start with schemas."
   ]
  },
  {
   "attachments": {},
   "cell_type": "markdown",
   "metadata": {},
   "source": [
    "### Schemas\n",
    "\n",
    "#### Intro to schemas\n",
    "\n",
    "As already mentioned, a schema defines the structure of a Python object. Within a schema we can define fields <br>\n",
    "that can be serialized (dumped) or deserialized (loaded). Upfront it might be useful to have a little look at <br>  \n",
    "At the use of schemas.\n",
    "\n",
    "\"\n",
    ">  Validating input data\n",
    ">  Deserializing input data to app-level objects.\n",
    ">  Serializing app-level objects to primitive Python types. The serialized objects can then be rendered to<br>\n",
    ">  standard formats such as JSON [...]\n",
    "\n",
    "\" (readthedocs.io, 2023, 1)\n",
    "\n",
    "The following code snippet shows an example of a schema:\n",
    "\n",
    "#### Example"
   ]
  },
  {
   "cell_type": "code",
   "execution_count": null,
   "metadata": {},
   "outputs": [],
   "source": [
    "from marshmallow import Schema, fields\n",
    "\n",
    "class MySchema(Schema): \n",
    "    firstname= fields.Str()\n",
    "    lastname = fields.Str(required=True)\n",
    "    age  = fields.Integer()"
   ]
  },
  {
   "attachments": {},
   "cell_type": "markdown",
   "metadata": {},
   "source": [
    "We can see that in our Schema \"MySchema\" we have two string fields \"firstname\" and \"lastname\" (which is required <br>\n",
    "to be able to successfully *load* the object) and one integer field \"age\". Now that we have defined the fields <br>\n",
    "our schema, we can use it to *load* and dump Python objects. However, we can define the fields even more, by passing parameters. <br>\n",
    "Therefore we have a list of parameters we can pass onto fields:\n",
    "\n",
    "#### Parameters\n",
    "\n",
    "**\"**\n",
    "> - <samp> only     </samp>:       a list of fields to only consider from dump and load\n",
    "> - <samp> exclude  </samp>:    a list of fields to exclude from dump and load\n",
    "> - <samp> many     </samp>:       whether the resulting schema is an array of the instantiated schema\n",
    "> - <samp> context  </samp>:    a context object to provide contextual dump and load\n",
    "> - <samp> load_only</samp>:  a list of fields to be considered only during load\n",
    "> - <samp> dump_only</samp>:  a list of fields to be considered only during dump\n",
    "> - <samp> partial  </samp>:    a list of fields that can be omitted (left out)\n",
    "> - <samp> unknown  </samp>:    the behavior to take on unknown fields (<samp>EXCLUDE, INCLUDE, RAISE</samp>) \n",
    "\n",
    "**\"**(kimsereylam, 2019, 1)\n",
    "\n",
    "With these paramaters we have the opportunity to specify what happens on *load* and *dump* to each field separately. <br>\n",
    "To help get a better understanding of these parameters we will take a look at a code snippet with an example schema."
   ]
  },
  {
   "cell_type": "code",
   "execution_count": null,
   "metadata": {},
   "outputs": [],
   "source": [
    "from marshmallow import Schema, fields\n",
    "\n",
    "class MySchema(Schema):\n",
    "    firstname = fields.Str()                # adding field\n",
    "    lastname  = fields.Str(required=True)   # adding field that is required\n",
    "    age       = fields.Integer()            # adding field\n",
    "    email     = fields.Str(required=True)   # adding field that is required\n",
    "\n",
    "schema = MySchema(load_only=['firstname'], unknown='EXCLUDE', partial=['email']) # passing the parameters onto the fields"
   ]
  },
  {
   "attachments": {},
   "cell_type": "markdown",
   "metadata": {},
   "source": [
    "In this example we start by creating the schema as in the code snippet before. Additional to the fields we <br>\n",
    "have definded before we added \"email\" which is required. Now if we take a look at the last line, we can see <br>\n",
    "3 different parameters that were passed. \n",
    "\n",
    "<samp>load_only</samp>: this parameter is passed onto \"firstname\". It's effect is that on dump, the firstname is excluded. <br>\n",
    "<br>\n",
    "<samp>unknown</samp>:   with this parameter every unknown field is excluded on dump and load. <br>\n",
    "<br>\n",
    "<samp>partial</samp>:   this parameter means that \"email\" can be left out but if it's given/ provided can't be <samp>None.</samp> <br>\n",
    "\n",
    "Now that we understand what these parameters do, we can take a look at what it looks like to load and dump this schema.\n",
    "\n",
    "\n",
    "#### See also\n",
    "\n",
    "If you want to learn more about schemas, go check the [Extending Schemas](https://marshmallow.readthedocs.io/en/stable/extending.html)."
   ]
  },
  {
   "attachments": {},
   "cell_type": "markdown",
   "metadata": {},
   "source": [
    "### Deserializing"
   ]
  },
  {
   "attachments": {},
   "cell_type": "markdown",
   "metadata": {},
   "source": [
    "After looking at schemas and mentioning deserializing and serializing we schoul look into these concepts <br>\n",
    "as well. The deserialization is also known as *load*. It's the reverse method of serialization and converts <br>\n",
    "JSON objects to Python objects (application-level data structure). We will take a look at an example <br>\n",
    "where we use deserialization. This refers to the schemas example code snippet we just talked through. <br>\n",
    "Let's get right into it:"
   ]
  },
  {
   "cell_type": "code",
   "execution_count": null,
   "metadata": {},
   "outputs": [],
   "source": [
    "schema = MySchema(load_only=['firstname'], unknown='EXCLUDE', partial=['email']) # last line from the schema we created\n",
    "\n",
    "# if we deserialize this schema it would look something like this\n",
    "\n",
    "data = schema.load(dict(firstname='Flo', lastname='Präger', age='21', something='some info'))\n",
    "\n",
    "# loading that would mean this --> data = {\"firstname\": \"Flo\", \"lastname\":\"Präger\", \"age\":\"21\"} \n",
    "# the field \"something\" is excluded beacause it's unknown"
   ]
  },
  {
   "attachments": {},
   "cell_type": "markdown",
   "metadata": {},
   "source": [
    "We already know the first line from the schema code snippet before. In there we have passed parameters to <br>\n",
    "each field. These will later define the output we will get on load. To deserialize objects we use ``schema.load(dict())``. <br>\n",
    "\n",
    "> The loading concept \"deserializes an input dictionary to application-level data structure.\" (readthedocs.io, 2023, 1) <br>\n",
    "\n",
    "On load we will get the firstname, because it's <samp>load_olny</samp>, the lastname and age. We don't have an email <br>\n",
    "input. Furthermore we have some <samp>unknown</samp> input that is not shown because we passed the ``EXCLUDE`` parameter. <br>\n",
    "That is everything we need to know about this code snippet in order to understand what happens on *load*."
   ]
  },
  {
   "attachments": {},
   "cell_type": "markdown",
   "metadata": {},
   "source": [
    "### Serializing"
   ]
  },
  {
   "attachments": {},
   "cell_type": "markdown",
   "metadata": {},
   "source": [
    "We already mentionend serializing and we know it's also known as *dumping*. What this concept actually <br>\n",
    "does, is to convert a Python object to a JSON object so it can be used in a web API. We will go through an <br>\n",
    "example of serialization so we can get a better understanding of it and how it works. The example <br>\n",
    "will be appropriate to the code snippet used in the *Schemas* chapter. Let's take a look:"
   ]
  },
  {
   "cell_type": "code",
   "execution_count": null,
   "metadata": {},
   "outputs": [],
   "source": [
    "schema = MySchema(load_only=['firstname'], unknown='EXCLUDE', partial=['email']) # last line from the schema we created before\n",
    "\n",
    "# if we deserialize this schema it would look something like this\n",
    "\n",
    "data = schema.load(dict(firstname='Flo', lastname='Präger', age='21', something='some info'))\n",
    "\n",
    "# loading that would mean this --> data = {\"firstname\": \"Flo\", \"lastname\":\"Präger\", \"age\":\"21\"} \n",
    "# the field \"something\" is excluded beacause it's unknown\n",
    "\n",
    "result = schema.dump(data)\n",
    "\n",
    "# the result would be the following --> result = {\"lastname\":\"Präger\", \"age\":\"21\"} \n",
    "# \"something\" is still excluded and \"firstname\" is only included on load"
   ]
  },
  {
   "attachments": {},
   "cell_type": "markdown",
   "metadata": {},
   "source": [
    "We recognize the first line as being the last from the example before. Now the ``data`` line <br>\n",
    "is the one we just saw in the *deserialization* chapter. What really happens on dump is defined <br>\n",
    "in the first line with parameters. To *dump* data we just use ``schema.dump(data)``. The ouput is <br>\n",
    "explained in the comments below that line. So on load and dump, the output depends on the on<br>\n",
    "the parameters passed upfront.\n"
   ]
  },
  {
   "attachments": {},
   "cell_type": "markdown",
   "metadata": {},
   "source": [
    "## 7. Advanced Concepts\n",
    "\n",
    "#### Intro to Advanced Concepts\n",
    "\n",
    "Now that we looked into these three concepts, how they work and what they look like in a code snippet, we will <br>\n",
    "with some more advanced concepts, such as validation, nested schemas, custom fields and SQLAlchemy. Similar to <br> \n",
    "the first three  concepts, we will go through each concept theoretically as well as practically by looking into <br>\n",
    "some code snippets again. <br>\n",
    "\n",
    "We will start by looking at the validation concept of Flask-Marshmallow.\n"
   ]
  },
  {
   "attachments": {},
   "cell_type": "markdown",
   "metadata": {},
   "source": [
    "### Validation\n",
    "\n",
    "#### Intro to validation\n",
    "\n",
    "The validation of data is an important aspect in applications. It's the process of creating criteria <br>\n",
    "for data and checking if the input data meets all of the criteria that was defined upfront. A simple <br>\n",
    "example for validation is to check whether a field in a schema is empty or not. If the field isn't <br>\n",
    "empty, we can check whether it has the right data type or not. \n",
    "\n",
    "> Important: The validation process only happens on deserialization, therefore doesn't on serialization.\n",
    "\n",
    "Now that we understand what validation is, we want to know how it's done. Therefore we will take a look <br>\n",
    "at *validators*. There are many validators that can be defined for fields. However we have differ. We will <br>\n",
    "see what that means in the following code snippet:\n",
    "\n",
    "#### Example"
   ]
  },
  {
   "cell_type": "code",
   "execution_count": 5,
   "metadata": {},
   "outputs": [],
   "source": [
    "from marshmallow import Schema, fields, validate\n",
    "\n",
    "class NewSchema(Schema):\n",
    "    password = fields.Str(required=True)\n",
    "    name = fields.Str(required=True, validate=validate.Length(min=2, max=25))\n",
    "    age = fields.Integer(validate=validate.Range(min=16, max=100))\n",
    "    email = fields.Email()"
   ]
  },
  {
   "attachments": {},
   "cell_type": "markdown",
   "metadata": {},
   "source": [
    "In this code snippet we can see that we created a schema, that has 3 fields. Now we have 2 types of validators. <br>\n",
    "The first (Let's call it **type 1**) is the defintion of the data type the input has to be. Meaning that the *password* <br>\n",
    "has to be a String to be valid data. The age has to be an Integer to be valid. The email has a built-in validation, so we don't have <br>\n",
    "to add validators. These are also known a the **classes** or **types** for defining fields. The second (**type 2**) type is the validation <br> \n",
    "through a <samp>validate</samp> argument, such as <samp>Length</samp>  and <samp>Range.</samp>If the input doesn't match the requested type, <br> \n",
    "it will raise an ValidationError. Let's try it out. <br>"
   ]
  },
  {
   "cell_type": "code",
   "execution_count": null,
   "metadata": {},
   "outputs": [],
   "source": [
    "from marshmallow import ValidationError, Schema, fields, validate\n",
    "\n",
    "class NewSchema(Schema):\n",
    "    password = fields.Str(required=True)\n",
    "    name = fields.Str(required=True, validate=validate.Length(min=2, max=25))\n",
    "    age = fields.Integer(validate=validate.Range(min=16, max=100))\n",
    "    email = fields.Email()\n",
    "\n",
    "try:\n",
    "    result = NewSchema().load({\"name\":\"Flo\", \"email\":\"abc\", \"age\":\"21\"})\n",
    "except ValidationError as error:\n",
    "    print(error.messages) # It will print the error message because abc ist not a valid email\n",
    "    print(error.valid_data) # It will print the name because it is valid data"
   ]
  },
  {
   "attachments": {},
   "cell_type": "markdown",
   "metadata": {},
   "source": [
    "#### Output\n",
    "\n",
    "Running this code snippet will give us the following output:\n",
    "\n",
    "<table style=\"float:left\">\n",
    "<tr>\n",
    "<td>\n",
    "{'email': ['Not a valid email address.'], 'password': ['Missing data for required field.']}\n",
    "{'age': 21, 'name': 'Flo'}\n",
    "</td>\n",
    "</tr>\n",
    "</table>"
   ]
  },
  {
   "attachments": {},
   "cell_type": "markdown",
   "metadata": {},
   "source": [
    "As you an see, \"abc\" is not a valid email adress, password is missing input to be printed out. The only valid output <br>\n",
    "are age and name, because only these two meet the validation criteria.\n",
    "\n",
    "Now that we have seen how the validation works, we should take a look at the most important types/ validators that exist.\n",
    "\n",
    "#### Field Types/ Classes\n",
    "\n",
    "- Dict\n",
    "- String/ Str\n",
    "- Number\n",
    "- Integer/ Int\n",
    "- Decimal\n",
    "- Boolean/ Bool\n",
    "- Float\n",
    "- Time\n",
    "- Date\n",
    "- URL\n",
    "- Email\n",
    "- Nested\n",
    "\n",
    "#### Field Validators\n",
    "\n",
    "- Email\n",
    "- Length\n",
    "- Range\n",
    "- URL\n"
   ]
  },
  {
   "attachments": {},
   "cell_type": "markdown",
   "metadata": {},
   "source": [
    "We can see that there are quite a lot options for validation in Flask-Marshmallow. And we didn't even <br>\n",
    "go through every option of validation. For example it is also possible to validate through a validation <br> \n",
    "function or defining a validation method.\n",
    "\n",
    "#### See also: \n",
    "\n",
    "[Validation more in depth](https://marshmallow.readthedocs.io/en/stable/quickstart.html#validation) <br>\n",
    "\n",
    "[Validation as methods and functions](https://www.kimsereylam.com/python/2019/10/25/serialization-with-marshmallow.html#:~:text=The%20main%20component%20of%20Marshmallow,fields%2C%20like%20validation%20or%20required.)"
   ]
  },
  {
   "attachments": {},
   "cell_type": "markdown",
   "metadata": {},
   "source": [
    "### Nested Schemas\n",
    "\n",
    "#### Intro to Nested Schemas\n",
    "\n",
    "We already learned what schemas are and what use they have. However we can also nest schemas in <br>\n",
    "another schema and field. This is useful if we have larger and complex data structures. It's also useful <br>\n",
    "to represent relationships between two or more objects. For example a movie has a director or <br>\n",
    "a book has an author. We will have a look at a code snippet to be able to understand what we <br>\n",
    "just learned.\n",
    "\n",
    "#### Example\n"
   ]
  },
  {
   "cell_type": "code",
   "execution_count": null,
   "metadata": {},
   "outputs": [],
   "source": [
    "from marshmallow import Schema, fields\n",
    "from pprint import pprint\n",
    "\n",
    "class DirectorSchema(Schema):\n",
    "    name = fields.Str()\n",
    "    email = fields.Email()\n",
    "    created_at = fields.DateTime()\n",
    "\n",
    "\n",
    "class MovieSchema(Schema):\n",
    "    title = fields.Str()\n",
    "    director = fields.Nested(DirectorSchema)\n",
    "\n",
    "data = {\n",
    "    \"title\": \"Interstellar\",\n",
    "    \"director\": {\n",
    "        \"name\": \"Christopher Nolan\" \", \"\n",
    "        \"email\" \" \" \"Christopher@Nolan.us\" \", \"\n",
    "        \"created_at\" \" \" \"06.11.2014\"\n",
    "    }\n",
    "}\n",
    "\n",
    "result = MovieSchema().load(data)\n",
    "pprint(result)"
   ]
  },
  {
   "attachments": {},
   "cell_type": "markdown",
   "metadata": {},
   "source": [
    "#### Output\n",
    "\n",
    "The output for this code snippet will be this:\n",
    "\n",
    "<table style=\"float:left\">\n",
    "<tr>\n",
    "<td>\n",
    "{'director': {'name': 'Christopher Nolan, email Christopher@Nolan.us, '\n",
    "                      'created_at 06.11.2014'},\n",
    " 'title': 'Interstellar'}\n",
    " </td>\n",
    " </tr>\n",
    " </table>"
   ]
  },
  {
   "attachments": {},
   "cell_type": "markdown",
   "metadata": {},
   "source": [
    "We now have successfully created a nested schema. The output shows us, that it worked. The title from the <br>\n",
    "*MovieSchema* as well as the *DirectorSchema* was printed out after deserializing the *data*. This is just a <br>\n",
    "simple example of what we can do with nested schemas. We can also define specifically which fields we want to nest <br>\n",
    "and some more functions like nesting a schema within itself. For this you can look at the **See also** section.\n",
    "\n",
    "\n",
    "#### See also \n",
    "\n",
    "Here you can find out more about [nested schemas.](https://marshmallow.readthedocs.io/en/stable/nesting.html)"
   ]
  },
  {
   "attachments": {},
   "cell_type": "markdown",
   "metadata": {},
   "source": [
    "### Custom Fields\n",
    "\n",
    "#### Intro to Custom Fields\n",
    "\n",
    "Custon Fields are user-defined fields, meaning that we can create our fields individually. Similar to the <br> \n",
    "concept of validation in Flask-Marshmallow, we have three different ways to create a custom field <br>\n",
    "as well. We can either:\n",
    "\n",
    "- Create a custom field as a <samp>class</samp>,\n",
    "- Use a <samp>method</samp> to create a custom field or\n",
    "- Use a <samp>function</samp> to create a custom field (out of scope)\n",
    "\n",
    "We will start by looking at creating a custom field <samp>class</samp>.\n",
    "\n",
    "#### Creating a Custom Field Class\n",
    "\n",
    "To create a custom field class, we are going to subclass the ``fields.Field`` class. Furthermore we need to<br>\n",
    "implement the <samp>serializing</samp> and <samp>deserializing</samp> methods. Let's see what it looks like <br>\n",
    "in a code snippet:"
   ]
  },
  {
   "cell_type": "code",
   "execution_count": 8,
   "metadata": {},
   "outputs": [],
   "source": [
    "from marshmallow import schema, fields, ValidationError\n",
    "\n",
    "class EmailField(fields.Field):\n",
    "    \n",
    "    def _serialize(self, value, attr, obj):\n",
    "        if value is None:\n",
    "            return \"\"\n",
    "        return value.lower() # before serializing the email adress we want it converted into lowercase letters\n",
    "    \n",
    "    def _deserialize(self, value, attr, data):\n",
    "        if \"@\" not in value:\n",
    "            raise ValueError(\"Email adress is not valid. Please try again.\")\n",
    "        return value\n",
    "    \n",
    "# Now we need to create a schema to use the EmailField in it.\n",
    "\n",
    "class UserSchema(Schema):\n",
    "    name = fields.Str()\n",
    "    email = EmailField(required=True)\n",
    "    created_at = fields.DateTime()"
   ]
  },
  {
   "attachments": {},
   "cell_type": "markdown",
   "metadata": {},
   "source": [
    "Now if we would start to serialize or deserialize data with the UserSchema, the custom field <samp>EmailField</samp> <br>\n",
    "will take care of the validation of email adresses and the conversion from upper case to lowercase. And with that, <br>\n",
    "we created our first custom field class."
   ]
  },
  {
   "attachments": {},
   "cell_type": "markdown",
   "metadata": {},
   "source": [
    "#### Create a Custom Field Method\n",
    "\n",
    "If we want to create a custom field using a method, the code will look a little different then before, creating a class. <br>\n",
    "The benefit of these custom fields is that we can define and create them however we like. To create a custom field using <br>\n",
    "using a method we have to use ``fields.Method``. Let's take a look at the following example. "
   ]
  },
  {
   "cell_type": "code",
   "execution_count": 10,
   "metadata": {},
   "outputs": [],
   "source": [
    "from marshmallow import fields, Schema\n",
    "\n",
    "class MySchema(Schema):\n",
    "    name = fields.Str(required=True)\n",
    "    age = fields.Integer(required=True)\n",
    "    is_adult = fields.Method(\"check_age\") # we can name our Method whatever we want it to be called.\n",
    "\n",
    "    def check_age(self, obj): # the method must have an obj parameter, which is then serialized.\n",
    "        return obj.age >= 18 # check whether age is over 17 or not (True | False)."
   ]
  },
  {
   "attachments": {},
   "cell_type": "markdown",
   "metadata": {},
   "source": [
    "And with that we created our custom field using a method. The method is checking the integer input <br>\n",
    "whether it's greater than 17 or less than 18. In other words, it's checking if you're an adult or <br>\n",
    "a minor. In the ``is_adult`` line we instantiate our method and call it \"check_age\". Then below that <br>\n",
    "we define our method and returning the object, which can be \"True\" or \"False\". That's how an example <br>\n",
    "of creating a custom field using a method looks like. Although doing said thing using a function is <br>\n",
    "out of scope, you can still check the link to find out more about that.\n",
    "\n",
    "#### See also\n",
    "\n",
    "Click [here](https://marshmallow.readthedocs.io/en/stable/custom_fields.html) to find out more"
   ]
  },
  {
   "attachments": {},
   "cell_type": "markdown",
   "metadata": {},
   "source": [
    "## 8. Follow-Ups & External Sources \n",
    "\n",
    "Because of the fact that we have didn't cover all of the concepts of Flask-Marshmallow to the full extend, <br>\n",
    "we have to at least recommend some useful ressources that will help get into this topic more in depth."
   ]
  },
  {
   "attachments": {},
   "cell_type": "markdown",
   "metadata": {},
   "source": [
    "### Helpful Links to Follow-Up With\n",
    "\n",
    "* If you're interested in the [Integraton of SQLAlchemy](https://flask-marshmallow.readthedocs.io/en/latest/), then you should take look at this.\n",
    "* Another good ressource, if you want to go deeper into the [Custom Fields](https://marshmallow.readthedocs.io/en/stable/custom_fields.html) topic."
   ]
  },
  {
   "attachments": {},
   "cell_type": "markdown",
   "metadata": {},
   "source": [
    "### List of References\n",
    "\n",
    "Due to the length of the list of ressources, they will be saved and listed in a seperate [document](https://github.com/Fpraeger/Flask-Marshmallow-Tutorial/blob/main/References.txt)."
   ]
  }
 ],
 "metadata": {
  "kernelspec": {
   "display_name": "Python 3",
   "language": "python",
   "name": "python3"
  },
  "language_info": {
   "codemirror_mode": {
    "name": "ipython",
    "version": 3
   },
   "file_extension": ".py",
   "mimetype": "text/x-python",
   "name": "python",
   "nbconvert_exporter": "python",
   "pygments_lexer": "ipython3",
   "version": "3.11.3"
  },
  "orig_nbformat": 4
 },
 "nbformat": 4,
 "nbformat_minor": 2
}
