{
 "cells": [
  {
   "attachments": {},
   "cell_type": "markdown",
   "metadata": {},
   "source": [
    "# Flask Marshmallow Tutorial \n",
    "***"
   ]
  },
  {
   "attachments": {},
   "cell_type": "markdown",
   "metadata": {},
   "source": [
    "## Outline"
   ]
  },
  {
   "attachments": {},
   "cell_type": "markdown",
   "metadata": {},
   "source": [
    "\n",
    "\n",
    "### 1. Intro to Flask-Marshmallow\n",
    "\n",
    "\n",
    "### 2. Learning Objective\n",
    "\n",
    "    \n",
    "### 3. Assumptions\n",
    "\n",
    "\n",
    "### 4. Installation / Setup\n",
    "\n",
    "\n",
    "### 5. Hello World Application\n",
    "\n",
    "\n",
    "### 6. Concepts of Flask-Marshmallow\n",
    "\n",
    "<ol>\n",
    "\n",
    " a.\tSchemas\n",
    "<ol>\n",
    "\n",
    " i.\t    What is a Schema? \n",
    "\n",
    " ii.    How are Schemas used? \n",
    "\n",
    " iii.   *Code* / Implementing Schemas\n",
    "\n",
    "</ol>\n",
    "\n",
    "b.\tSerializer  \n",
    "<ol>\n",
    "\n",
    "i.\t    What is a Serializer\n",
    "\n",
    "ii.\t    How are Serializers used? \n",
    "\n",
    "iii.    *Code* / Implementing a Serializer\n",
    "\n",
    "</ol>\n",
    "\n",
    "c.\tDeserializer \n",
    "<ol>\n",
    "\n",
    "i.\t    What is a Deserializers? \n",
    "\n",
    "ii.\t    How are Deserializers used? \n",
    "\n",
    "iii.    *Code* / Implementing a Deserializer\n",
    "\n",
    "</ol>\n",
    "</ol>\n",
    "\n",
    "    \n",
    "### 7. More Concepts / Follow-ups\n",
    "\n",
    "<ol>\n",
    "\n",
    "a.\t    Validierung \n",
    "\n",
    "b.\t    Nested Schemas \n",
    "\n",
    "c.\t    Custom Fields\n",
    "\n",
    "</ol>\n",
    "\n",
    "### 8. Sources\n",
    "\n",
    "<ol>\n",
    "\n",
    "a.\t    Empfehlung weiterführender Ressourcen \n",
    "\n",
    "b.\t    Quellenverzeichnis\n",
    "\n",
    "</ol>\n",
    "\n",
    "\n"
   ]
  },
  {
   "attachments": {},
   "cell_type": "markdown",
   "metadata": {},
   "source": [
    "## 1. Intro to Flask-Marshmallow\n",
    "\n",
    ">\"*Flask-Marshmallow is a thin integration layer for Flask (a Python web framework) and marshmallow (an object serialization/deserialization library) <br> \n",
    "that adds additional features to marshmallow, including URL and Hyperlinks fields for HATEOAS-ready APIs.[...]*\" (readthedocs, 2023, 3)\n",
    "\n",
    "This sums up the best what Flask-Marshmallow is about and what you can do with it. \n",
    "\n",
    "Another simpler explanation of Flask-Marshmallow is the following, describing the use of it.\n",
    "\n",
    ">\"*[Marshmallow] is used to convert objects to and from Python data types.*\" (golinuxcloud, 2023)\n",
    "\n",
    "Meaning for example converting an object into a string or vice versa. In other words you can deserialize a JSON object to Python object or serialize Python <br>\n",
    "object to JSON object. \n"
   ]
  },
  {
   "attachments": {},
   "cell_type": "markdown",
   "metadata": {},
   "source": [
    "## 2. Learning Objective\n",
    "\n",
    "In this tutorial we will focus on the serialization and deserialization as well as schemas and some other advanced concepts. First we will learn about <br> schemas, serialization and deserialization and then look at some examples to get a better understanding of how these functions work and what it <br> looks like using them. \n",
    "\n",
    "So summing up this will be the content of this tutorial. Each of them will be explained with the help of code examples. \n",
    "\n",
    ">* schemas\n",
    ">* serialization\n",
    ">* deserialization\n",
    ">* validation\n",
    ">* nested schemas\n",
    ">* custom fields\n",
    "\n",
    "At the end of this tutorial you will understand each of these concepts and after some practice be able to use them correctly."
   ]
  },
  {
   "attachments": {},
   "cell_type": "markdown",
   "metadata": {},
   "source": [
    "## 3. Assumptions\n",
    "\n",
    "To be able to follow this tutorial you should already have:\n",
    "\n",
    "* python and Virtual Studio Code (VSCode) installed\n",
    "* set up a virtual environment (venv)\n",
    "* installed flask in your venv\n",
    "\n",
    "If you haven't done these steps, there will be a short instruction on how to setup up a virtual environment in VSCode and install flask.<br>\n",
    "Once you've done all of these steps, we are ready to go and continue this tutorial."
   ]
  },
  {
   "attachments": {},
   "cell_type": "markdown",
   "metadata": {},
   "source": [
    "## 4. Installation / Setup\n",
    "\n",
    ">In case you don't know how to setup a virtual environment and flask or just haven't done it yet, we will go through that very process step by step. <br>\n",
    ">Otherwise you can skip the setup parts for virtual environment and flask and continue with the next steps concerning marshmallow.\n",
    "\n",
    "\n",
    "### Set up a virtual environment\n",
    "\n",
    "> The commands used in this tutorial are only for Windows. You can google the equivalent commands for MacOS <br>\n",
    "> if needed.\n",
    "\n",
    "The first thing you want to do after installing python and VSCode successfully is to open VSCode. <br>\n",
    "In the side pane you can see several symbols. Click on the \"Extensions\" button and search for **Python**. <br>\n",
    "You want to install the one created by Microsoft. Once you've done that, you can create a new folder<br>\n",
    "on your desktop for example. You can name it however you want but it might be best to give it a simple <br>\n",
    "name like **App**. In the next step you want to open your folder in VSCode. Do that by clicking <br>\n",
    "\"file > open folder\" and select your folder. <br>\n",
    "\n",
    "Before we continue using the VSCode terminal, we need to set the default terminal to *cmd*. <br>\n",
    "We can do that by pressing <kbd>Ctrl + Shift + P</kbd> and typing ***terminal select default profile***. <br>\n",
    "Then you select Command Prompt. Now you want to create a new terminal by clicking <br>\n",
    "\"terminal > new terminal\" and type in:\n",
    "\n",
    "``python -m venv myvenv``\n",
    "\n",
    "By pressing <kbd>Enter</kbd> we create a new virtual environment in the folder \"myvenv\". Since that is the name <br>\n",
    "of the folder, you can give your folder a different name if you like. But for now lets continue with that. <br>\n",
    "\n",
    "Now we want to activate the virtual environment. We will do this by typing the following in the terminal:\n",
    "\n",
    "``.\\myvenv\\Scripts\\activate.bat``\n",
    "\n",
    "You can check in the terminal if your virtual environment is activated or not. If the command worked and <br>\n",
    "successfully activated your virtual environment, you should see (myvenv) at the start of your terminal line. <br>\n",
    "\n",
    "#### Optional\n",
    "\n",
    "If you plan on working more often on your project, it may be useful to consider setting your newly created <br>\n",
    "virtual environment as default for this project. To do this, press <kbd>Ctrl+Shift+P</kbd> and type in *python* <br>\n",
    "*select interpreter*. You will already see recommendations pop up. Now you want to click on the option that has <br>\n",
    "the name of your virtual environment in it ((myvenv) in this case). \n",
    "\n",
    "You can now create a new terminal by clicking *Terminal* and *New Terminal* in the navigation bar of VSCode. <br>\n",
    "If it worked correctly the terminal line should start with (myvenv).\n",
    "\n",
    "### Install Flask\n",
    "\n",
    "Still in the same terminal (starting with (myvenv)), you can now install flask by simply tiping the following\n",
    "\n",
    "``pip install flask``\n",
    "\n",
    "You should something happening in your terminal and after a few seconds flask is installed. If not sure <br> \n",
    "whether it is installed correctly or not, you may check your folder in the explorer. Your folder should <br>\n",
    "contain ***flask***. It may look something like this (It's only a screenshot of the top of the folder, <br> \n",
    "not showing ***jinja2*** for example)\n",
    "\n",
    "![Screenshot of the folder!](/images/Folder.jpg \"Project Folder\")\n",
    "\n",
    "\n",
    "### Upgrade Flask\n",
    "\n",
    "It may be useful to check if you have installed the newest version of Flask. If you want to upgrade Flask, <br>\n",
    "type this in your terminal line.\n",
    "\n",
    "``pip install --upgrade flask``\n",
    "\n",
    "### Install Flask-Marshmallow\n",
    "\n",
    "Similar to the previous step where we installed Flask, we now want to install Flask-Marshmallow by typing <br>\n",
    "one simple command as well.\n",
    "\n",
    "``pip install flask-marshmallow``\n",
    "\n",
    "It should only take a few seconds and it's done. Just as we did with Flask, we now want to check if it was <br>\n",
    "installed correctly. And your project folder should look something like this.\n",
    "\n",
    "![Another Screenshot of the folder!](/images/Folder2.jpg \"Project Folder MA\")\n",
    "\n",
    "Now you have finally completed all of the necessary installation and setup steps. Congratulations."
   ]
  },
  {
   "attachments": {},
   "cell_type": "markdown",
   "metadata": {},
   "source": [
    "## 5. Hello World Application\n",
    "\n",
    "Now that we have everything necessary set up and ready, we want to start by implementing a simple \"Hello World\" application. <br>\n",
    "In our case we want to provide a comparison between a \"regular\", simple \"Hello World\" application and another one using <br>\n",
    "Flask-Marshmallow. This will help get a better understanding about the code by shedding a light on the differences. <br>\n",
    "*Enough of the theory so let's get into it.*"
   ]
  },
  {
   "attachments": {},
   "cell_type": "markdown",
   "metadata": {},
   "source": [
    "### Implementing a Hello World Application"
   ]
  },
  {
   "cell_type": "code",
   "execution_count": null,
   "metadata": {},
   "outputs": [],
   "source": [
    "from flask import Flask\n",
    "\n",
    "app = Flask(__name__)\n",
    "\n",
    "@app.route('/')\n",
    "def hello_world():\n",
    "        return 'Hello, World!'\n",
    "\n",
    "if __name__ == '__main__':\n",
    "        app.run()"
   ]
  },
  {
   "attachments": {},
   "cell_type": "markdown",
   "metadata": {},
   "source": [
    "#### Output \n",
    "\n",
    "If you run this simple flask application you will get the ouput: \n",
    "\n",
    "*<table><tr><td>Hello, World!</td></tr></table>*"
   ]
  },
  {
   "attachments": {},
   "cell_type": "markdown",
   "metadata": {},
   "source": [
    "### Implementing a Hello World Application with Flask-Marshmallow"
   ]
  },
  {
   "cell_type": "code",
   "execution_count": 8,
   "metadata": {},
   "outputs": [],
   "source": [
    "from flask import Flask, jsonify\n",
    "from flask_marshmallow import Marshmallow\n",
    "\n",
    "app = Flask(__name__)\n",
    "ma = Marshmallow(app)\n",
    "\n",
    "@app.route('/')\n",
    "def hello_world():\n",
    "        message = {'message': 'Hello, World!'}\n",
    "        return jsonify(message)\n",
    "\n",
    "if __name__ == '__main__':\n",
    "    app.run()"
   ]
  },
  {
   "attachments": {},
   "cell_type": "markdown",
   "metadata": {},
   "source": [
    "#### Output\n",
    "\n",
    "Now running this application will give you a different output:\n",
    "\n",
    "<table><tr><td>{\"message\": \"Hello, World!\"}</td></tr></table>"
   ]
  },
  {
   "attachments": {},
   "cell_type": "markdown",
   "metadata": {},
   "source": [
    "## 6. Concepts of Flask-Marshmallow\n",
    "\n",
    "> \"The main component of Marshmallow is a Schema. A schema defines the rules that guides deserialization, called **load**, <br>\n",
    "> and serialization, called **dump**. It allows us to define the fields that will be loaded or dumped, add requirements <br>\n",
    "> on the fields, like validation or required.[...]\" (kimsereylam.com, 2019)\n",
    "\n",
    "Apart from the mentioned concepts such as loading, dumpin and validation we will also take a look at nested schemas and (custom)<br>\n",
    "fields. However, let's start with schemas."
   ]
  },
  {
   "attachments": {},
   "cell_type": "markdown",
   "metadata": {},
   "source": [
    "### Schemas\n",
    "\n",
    "As already mentioned, a schema defines the structure of a Python object. Within a schema we can define fields <br>\n",
    "that can be serialized (dumped) or deserialized (loaded). The following code snippet shows an example of a schema:"
   ]
  },
  {
   "cell_type": "code",
   "execution_count": null,
   "metadata": {},
   "outputs": [],
   "source": [
    "from marshmallow import Schema, fields\n",
    "\n",
    "class MySchema(Schema): \n",
    "    firstname= fields.Str()\n",
    "    lastname = fields.Str(required=True)\n",
    "    age  = fields.Integer()"
   ]
  },
  {
   "attachments": {},
   "cell_type": "markdown",
   "metadata": {},
   "source": [
    "We can see that in our Schema \"MySchema\" we have two string fields \"firstname\" and \"lastname\" (which is required <br>\n",
    "to be able to successfully load or dump the object) and one integer field \"age\". Now that we have defined the fields <br>\n",
    "our schema, we can use it to load and dump Python objects. However, we can define the fields even more, by passing parameters.\n",
    "Therefore we have a list of parameters we can pass onto fields:\n",
    "\n",
    "> - <samp> only     </samp>:       a list of fields to only consider from dump and load\n",
    "> - <samp> exclude  </samp>:    a list of fields to exclude from dump and load\n",
    "> - <samp> many     </samp>:       whether the resulting schema is an array of the instantiated schema\n",
    "> - <samp> context  </samp>:    a context object to provide contextual dump and load\n",
    "> - <samp> load_only</samp>:  a list of fields to be considered only during load\n",
    "> - <samp> dump_only</samp>:  a list of fields to be considered only during dump\n",
    "> - <samp> partial  </samp>:    a list of fields that can be omitted (left out)\n",
    "> - <samp> unknown  </samp>:    the behavior to take on unknown fields (<samp>EXCLUDE, INCLUDE, RAISE</samp>)\n",
    "\n",
    "In the following steps we will look at these concepts."
   ]
  },
  {
   "attachments": {},
   "cell_type": "markdown",
   "metadata": {},
   "source": [
    "### Serializer"
   ]
  },
  {
   "attachments": {},
   "cell_type": "markdown",
   "metadata": {},
   "source": [
    "### Deserializer"
   ]
  },
  {
   "attachments": {},
   "cell_type": "markdown",
   "metadata": {},
   "source": [
    "## 7. More Concepts / Follow-ups\n",
    "\n",
    "### Validation\n",
    "\n",
    "### Nested schemas\n",
    "\n",
    "### Custom fields"
   ]
  },
  {
   "attachments": {},
   "cell_type": "markdown",
   "metadata": {},
   "source": [
    "## 8. Sources \n",
    "\n",
    "### Helpful links for more information\n",
    "\n",
    "### List of references"
   ]
  }
 ],
 "metadata": {
  "kernelspec": {
   "display_name": "Python 3",
   "language": "python",
   "name": "python3"
  },
  "language_info": {
   "codemirror_mode": {
    "name": "ipython",
    "version": 3
   },
   "file_extension": ".py",
   "mimetype": "text/x-python",
   "name": "python",
   "nbconvert_exporter": "python",
   "pygments_lexer": "ipython3",
   "version": "3.11.3"
  },
  "orig_nbformat": 4
 },
 "nbformat": 4,
 "nbformat_minor": 2
}
