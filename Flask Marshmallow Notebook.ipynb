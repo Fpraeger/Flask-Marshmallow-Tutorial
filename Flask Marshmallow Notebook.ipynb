{
 "cells": [
  {
   "attachments": {},
   "cell_type": "markdown",
   "metadata": {},
   "source": [
    "# Flask Marshmallow Tutorial"
   ]
  },
  {
   "attachments": {},
   "cell_type": "markdown",
   "metadata": {},
   "source": [
    "## Outline"
   ]
  },
  {
   "attachments": {},
   "cell_type": "markdown",
   "metadata": {},
   "source": [
    "1.\t**Intro to Flask-Marshmallow**\n",
    "\n",
    "2.\t**Learning Objective**\n",
    "\n",
    "    a.\tWas soll Leser/in am Ende des Tutorials gelernt haben?\n",
    "    \n",
    "3.\t**Assumptions**\n",
    "\n",
    "    a.\tAnnahmen, welcher Wissensstand wird von Leser/in erwartet?\n",
    "\n",
    "4.\t**Installation / Setup**\n",
    "\n",
    "    a.\tWelche Schritte, um dem Tutorial folgen zu können?\n",
    "\n",
    "5.\t**Concepts of Flask-Marshmallow**\n",
    "\n",
    "    a.\tSchemas\n",
    "\n",
    "      i.\tWas sind Schemas? \n",
    "\n",
    "      ii.\tWie werden Schemas definiert? \n",
    "\n",
    "      iii. *Codebeispiele*\n",
    "\n",
    "    b.\tSerializer  \n",
    "\n",
    "    i.\tWas sind Serializers? \n",
    "\n",
    "    ii.\tWie werden Serializers verwendet? \n",
    "\n",
    "    iii. *Codebeispiele* \n",
    "\n",
    "    c.\tDeserializer \n",
    "\n",
    "    i.\tWas sind Deserializers? \n",
    "\n",
    "    ii.\tWie werden Deserializers verwendet? \n",
    "\n",
    "    iii. *Codebeispiele*\n",
    "\n",
    "6.\t**Hello World Application**\n",
    "\n",
    "    a.\tEinführendes, erstes lauffähiges Beispiel\n",
    "\n",
    "    b.\tErstellung eines Schemas  \n",
    "\n",
    "    c.\tVerwendung des Serializers  \n",
    "\n",
    "    d.\tVerwendung des Deserializers \n",
    "\n",
    "    e.\tIntegration in eine Flask-Anwendung\n",
    "\n",
    "7.\t**More Concepts / Follow-ups**\n",
    "\n",
    "    a.\tValidierung \n",
    "\n",
    "    b.\tNested Schemas \n",
    "\n",
    "    c.\tCustom Fields\n",
    "\n",
    "8.\t**Sources**\n",
    "\n",
    "    a.\tEmpfehlung weiterführender Ressourcen \n",
    "\n",
    "    b.\tQuellenverzeichnis\n",
    "\n",
    "\n",
    "\n"
   ]
  },
  {
   "attachments": {},
   "cell_type": "markdown",
   "metadata": {},
   "source": [
    "## 1. A short intro to Flask-Marshmallow\n",
    "\n",
    ">\"*Flask-Marshmallow is a thin integration layer for Flask (a Python web framework) and marshmallow (an object serialization/deserialization library) <br> that adds additional\n",
    "features to marshmallow, including URL and Hyperlinks fields for HATEOAS-ready APIs.[...]*\" (readthedocs, 2023, 3)\n",
    "\n",
    "This sums up the best what Flask-Marshmallow is about and what you can do with it. \n",
    "\n",
    "Another simpler explanation of Flask-Marshmallow is the following, describing the use of it.\n",
    "\n",
    ">\"*[Marshmallow] is used to convert objects to and from Python data types.*\" (golinuxcloud, 2023)\n",
    "\n",
    "Meaning for example converting an object into a string or vice versa.\n",
    "\n",
    "So in general, Flask-Marshmallow makes working with serialization and deserialization easier for developers because of its concepts.\n",
    "\n"
   ]
  },
  {
   "attachments": {},
   "cell_type": "markdown",
   "metadata": {},
   "source": [
    "## 2. Learning Objective\n",
    "\n",
    "In this tutorial we will focus on the serialization and deserialization as well as schemas and some other advanced concepts. First we will learn about <br> schemas, serialization and deserialization and then look at some examples to get a better understanding of how these functions work and what it <br> looks like using them. \n",
    "\n",
    "So summing up this will be the content of this tutorial. Each of them will be explained with the help of code examples. \n",
    "\n",
    ">* schemas\n",
    ">* serialization\n",
    ">* deserialization\n",
    ">* validation\n",
    ">* nested schemas\n",
    ">* custom fields\n",
    "\n",
    "At the end of this tutorial you will understand each of these concepts and furthermore be able to use them."
   ]
  }
 ],
 "metadata": {
  "kernelspec": {
   "display_name": "Python 3",
   "language": "python",
   "name": "python3"
  },
  "language_info": {
   "name": "python",
   "version": "3.11.3"
  },
  "orig_nbformat": 4
 },
 "nbformat": 4,
 "nbformat_minor": 2
}
