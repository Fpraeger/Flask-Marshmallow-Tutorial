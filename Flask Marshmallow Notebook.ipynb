{
 "cells": [
  {
   "attachments": {},
   "cell_type": "markdown",
   "metadata": {},
   "source": [
    "# `Flask Marshmallow Tutorial`"
   ]
  },
  {
   "attachments": {},
   "cell_type": "markdown",
   "metadata": {},
   "source": [
    "## Gliederung (Erste Idee)"
   ]
  },
  {
   "attachments": {},
   "cell_type": "markdown",
   "metadata": {},
   "source": [
    "1.\t**Einführung in Flask-Marshmallow**\n",
    "\n",
    "2.\t**Learning Objective**\n",
    "\n",
    "    a.\tWas soll Leser/in am Ende des Tutorials gelernt haben?\n",
    "    \n",
    "3.\t**Assumptions**\n",
    "\n",
    "    a.\tAnnahmen, welcher Wissensstand wird von Leser/in erwartet?\n",
    "\n",
    "4.\t**Installation / Setup**\n",
    "\n",
    "    a.\tWelche Schritte, um dem Tutorial folgen zu können?\n",
    "\n",
    "5.\t**Grundlegende Konzepte**\n",
    "\n",
    "    a.\tSchemas\n",
    "\n",
    "        i.\tWas sind Schemas? \n",
    "\n",
    "        ii.\tWie werden Schemas definiert? \n",
    "\n",
    "        iii.    *Codebeispiele*\n",
    "\n",
    "    b.\tSerializer  \n",
    "\n",
    "        i.\tWas sind Serializers? \n",
    "\n",
    "        ii.\tWie werden Serializers verwendet? \n",
    "\n",
    "        iii.\t*Codebeispiele* \n",
    "\n",
    "    c.\tDeserializer \n",
    "\n",
    "        i.\tWas sind Deserializers? \n",
    "\n",
    "        ii.\tWie werden Deserializers verwendet? \n",
    "\n",
    "        iii.\t*Codebeispiele*\n",
    "\n",
    "6.\t**Beispielanwendung / Hello World**\n",
    "\n",
    "    a.\tEinführendes, erstes lauffähiges Beispiel\n",
    "\n",
    "    b.\tErstellung eines Schemas  \n",
    "\n",
    "    c.\tVerwendung des Serializers  \n",
    "\n",
    "    d.\tVerwendung des Deserializers \n",
    "\n",
    "    e.\tIntegration in eine Flask-Anwendung\n",
    "\n",
    "7.\t**Fortgeschrittene Konzepte / Follow-ups**\n",
    "\n",
    "    a.\tValidierung \n",
    "\n",
    "    b.\tNested Schemas \n",
    "\n",
    "    c.\tCustom Fields\n",
    "\n",
    "8.\t**Quellen**\n",
    "\n",
    "    a.\tEmpfehlung weiterführender Ressourcen \n",
    "\n",
    "    b.\t Quellenverzeichnis\n",
    "\n",
    "\n",
    "\n"
   ]
  }
 ],
 "metadata": {
  "kernelspec": {
   "display_name": "Python 3",
   "language": "python",
   "name": "python3"
  },
  "language_info": {
   "name": "python",
   "version": "3.11.3"
  },
  "orig_nbformat": 4
 },
 "nbformat": 4,
 "nbformat_minor": 2
}
